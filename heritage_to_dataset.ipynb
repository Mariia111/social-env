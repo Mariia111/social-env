{
 "cells": [
  {
   "cell_type": "code",
   "execution_count": 24,
   "metadata": {},
   "outputs": [],
   "source": [
    "import pandas as pd"
   ]
  },
  {
   "cell_type": "code",
   "execution_count": 25,
   "metadata": {},
   "outputs": [],
   "source": []
  },
  {
   "cell_type": "code",
   "execution_count": 33,
   "metadata": {},
   "outputs": [],
   "source": [
    "def create_table_is_heritage_data(heritage_data, index_name):\n",
    "    \"\"\"\n",
    "    Create new table is heritage to dataset\n",
    "    heritage_data dataframe heritage\n",
    "    index_name index name for create new table\n",
    "    return new table\n",
    "    \"\"\"\n",
    "    index = whr_data.pivot_table(index='Country name', columns='year', values=index_name)\n",
    "    index = index.rename_axis('Country', axis=0)\n",
    "    index = index.rename_axis(None, axis=1)\n",
    "    for item in index.columns:\n",
    "        index[item] = pd.to_numeric(index[item], errors='coerce')\n",
    "    return index"
   ]
  },
  {
   "cell_type": "code",
   "execution_count": 38,
   "metadata": {},
   "outputs": [],
   "source": [
    "def convert_whr_data(whr_data, csv_file):\n",
    "    \"\"\"\n",
    "    Convert data World Happines Report source to dataset_index_csv\n",
    "    hdr_file - HDR csv source\n",
    "    csv_file - Dataset csv source\n",
    "    \"\"\"\n",
    "    return whr_data.to_csv(csv_file)"
   ]
  },
  {
   "cell_type": "code",
   "execution_count": 43,
   "metadata": {},
   "outputs": [],
   "source": [
    "#convert_whr_data(create_table_is_whr_data(whr_data, 'Life Ladder'), './dataset/index_life_ladder.csv')\n",
    "#convert_whr_data(create_table_is_whr_data(whr_data, 'Log GDP per capita'), './dataset/index_gdp_per_capita.csv')\n",
    "#convert_whr_data(create_table_is_whr_data(whr_data, 'Social support'), './dataset/index_social_support.csv')\n",
    "#convert_whr_data(create_table_is_whr_data(whr_data, 'Healthy life expectancy at birth'), './dataset/index_healthy_life.csv')"
   ]
  },
  {
   "cell_type": "code",
   "execution_count": null,
   "metadata": {},
   "outputs": [],
   "source": []
  }
 ],
 "metadata": {
  "kernelspec": {
   "display_name": "Python 3",
   "language": "python",
   "name": "python3"
  },
  "language_info": {
   "codemirror_mode": {
    "name": "ipython",
    "version": 3
   },
   "file_extension": ".py",
   "mimetype": "text/x-python",
   "name": "python",
   "nbconvert_exporter": "python",
   "pygments_lexer": "ipython3",
   "version": "3.8.3"
  }
 },
 "nbformat": 4,
 "nbformat_minor": 4
}
