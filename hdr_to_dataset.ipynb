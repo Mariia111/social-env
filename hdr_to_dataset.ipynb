{
 "cells": [
  {
   "cell_type": "code",
   "execution_count": 3,
   "metadata": {},
   "outputs": [],
   "source": [
    "import pandas as pd"
   ]
  },
  {
   "cell_type": "code",
   "execution_count": 14,
   "metadata": {},
   "outputs": [],
   "source": [
    "def convert_hdr_data(hdr_file, csv_file):\n",
    "    \"\"\"\n",
    "    Convert data HDR source to dataset_index_csv\n",
    "    hdr_file - HDR csv source\n",
    "    csv_file - Dataset csv source\n",
    "    \"\"\"\n",
    "    hdr_data = pd.read_csv(hdr_file, skiprows = 1)\n",
    "    \n",
    "    hdr_data = hdr_data.set_index('Country')\n",
    "    hdr_data = hdr_data.filter(regex='\\d{4}', axis=1)\n",
    "    hdr_data = hdr_data.drop(labels='HDI Rank (2018)', axis=1)\n",
    "    for item in hdr_data.columns:\n",
    "        hdr_data[item] = pd.to_numeric(hdr_data[item], errors='coerce')\n",
    "    \n",
    "    return hdr_data.to_csv(csv_file)"
   ]
  },
  {
   "cell_type": "code",
   "execution_count": 17,
   "metadata": {},
   "outputs": [],
   "source": [
    "convert_hdr_data('./data/CoefficientofHumanInequality.csv', './dataset/CoefficientofHumanInequality.csv')\n",
    "convert_hdr_data('./data/Populationtotal.csv', './dataset/Populationtotal.csv')\n",
    "convert_hdr_data('./data/EducationIndex.csv', './dataset/EducationIndex.csv')\n",
    "convert_hdr_data('./data/Homiciderate.csv', './dataset/Homiciderate.csv')\n",
    "convert_hdr_data('./data/HumanDevelopmentIndex.csv', './dataset/HumanDevelopmentIndex.csv')\n",
    "convert_hdr_data('./data/Unemploymenttotal.csv', './dataset/Unemploymenttotal.csv')"
   ]
  },
  {
   "cell_type": "code",
   "execution_count": null,
   "metadata": {},
   "outputs": [],
   "source": []
  }
 ],
 "metadata": {
  "kernelspec": {
   "display_name": "Python 3",
   "language": "python",
   "name": "python3"
  },
  "language_info": {
   "codemirror_mode": {
    "name": "ipython",
    "version": 3
   },
   "file_extension": ".py",
   "mimetype": "text/x-python",
   "name": "python",
   "nbconvert_exporter": "python",
   "pygments_lexer": "ipython3",
   "version": "3.8.3"
  }
 },
 "nbformat": 4,
 "nbformat_minor": 4
}
