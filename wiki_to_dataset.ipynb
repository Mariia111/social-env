{
 "cells": [
  {
   "cell_type": "code",
   "execution_count": 56,
   "metadata": {},
   "outputs": [],
   "source": [
    "import pandas as pd\n",
    "from bs4 import BeautifulSoup as bs\n",
    "import requests"
   ]
  },
  {
   "cell_type": "code",
   "execution_count": 57,
   "metadata": {
    "colab": {
     "base_uri": "https://localhost:8080/",
     "height": 126
    },
    "executionInfo": {
     "elapsed": 1272,
     "status": "ok",
     "timestamp": 1603259831116,
     "user": {
      "displayName": "Елена Писарчук",
      "photoUrl": "",
      "userId": "13544361926682666394"
     },
     "user_tz": -180
    },
    "id": "itNSOEI_uZdp",
    "outputId": "ad3c9d46-c392-4b1c-ece7-fc5e30b1cf3b"
   },
   "outputs": [],
   "source": [
    "def create_df_wiki_index_doing_business():\n",
    "    main_link = 'https://en.wikipedia.org/wiki/Ease_of_doing_business_index'\n",
    "    r = requests.get(main_link)\n",
    "    soup = bs(r.text, \"lxml\")\n",
    "    table = soup.find(\"table\",{\"class\": \"wikitable sortable mw-datatable\"})\n",
    "    data = []\n",
    "    columns_names = []\n",
    "\n",
    "    line = soup.find(\"table\",{\"class\": \"wikitable sortable mw-datatable\"}).find('tbody').find_all('tr')\n",
    "    for row in line:\n",
    "        cols = row.find_all('td')\n",
    "        cols = [ele.text.strip() for ele in cols]\n",
    "        data.append([ele for ele in cols if ele])\n",
    "    line = soup.find(\"table\",{\"class\": \"wikitable sortable mw-datatable\"}).find('tbody').find_all('tr')\n",
    "    for row in line:\n",
    "        cols = row.find_all('th')\n",
    "        cols = [ele.text.strip() for ele in cols]\n",
    "        columns_names.append([ele for ele in cols if ele])\n",
    "\n",
    "    columns_names = (pd.DataFrame(columns_names).dropna()).values.tolist()[0]\n",
    "    ease_of_doing_business = pd.DataFrame(data, columns = columns_names).dropna()\n",
    "    \n",
    "    ease_of_doing_business = ease_of_doing_business.drop(labels='Classification', axis=1)\n",
    "    ease_of_doing_business = ease_of_doing_business.set_index('Jurisdiction')\n",
    "    ease_of_doing_business = ease_of_doing_business.rename_axis('Country', axis=0)\n",
    "    \n",
    "    return ease_of_doing_business"
   ]
  },
  {
   "cell_type": "code",
   "execution_count": 70,
   "metadata": {},
   "outputs": [],
   "source": [
    "def create_df_wiki_index_global_peace():\n",
    "    main_link = 'https://en.wikipedia.org/wiki/Global_Peace_Index'\n",
    "    r = requests.get(main_link)\n",
    "    soup = bs(r.text, \"lxml\")\n",
    "    table = soup.find(\"table\",{\"class\": \"wikitable sortable\"})\n",
    "    data = []\n",
    "    columns_names = []\n",
    "\n",
    "    line = soup.find(\"table\",{\"class\": \"wikitable sortable\"}).find('tbody').find_all('tr')\n",
    "    for row in line:\n",
    "        cols = row.find_all('td')\n",
    "        cols = [ele.text.strip() for ele in cols]\n",
    "        data.append([ele for ele in cols if ele])\n",
    "    line = soup.find(\"table\",{\"class\": \"wikitable sortable\"}).find('tbody').find_all('tr')\n",
    "    for row in line:\n",
    "        cols = row.find_all('th')\n",
    "        cols = [ele.text.strip() for ele in cols]\n",
    "        columns_names.append([ele for ele in cols if ele])\n",
    "\n",
    "    columns_names = (pd.DataFrame(columns_names).dropna()).values.tolist()[0]\n",
    "    global_peace_index = pd.DataFrame(data, columns = columns_names).dropna()\n",
    "    \n",
    "    global_peace_index = global_peace_index.set_index('Country')\n",
    "    global_peace_index = global_peace_index.filter(regex='\\d{4} score', axis=1)\n",
    "    global_peace_index.columns = [i[:4] for i in global_peace_index.columns]\n",
    "    \n",
    "    return global_peace_index"
   ]
  },
  {
   "cell_type": "code",
   "execution_count": 59,
   "metadata": {},
   "outputs": [],
   "source": [
    "create_df_wiki_index_doing_business().to_csv('./dataset/index_wiki_doing_business.csv')"
   ]
  },
  {
   "cell_type": "code",
   "execution_count": 73,
   "metadata": {},
   "outputs": [],
   "source": [
    "create_df_wiki_index_global_peace().to_csv('./dataset/index_wiki_global_peace.csv')"
   ]
  },
  {
   "cell_type": "code",
   "execution_count": null,
   "metadata": {},
   "outputs": [],
   "source": []
  }
 ],
 "metadata": {
  "kernelspec": {
   "display_name": "Python 3",
   "language": "python",
   "name": "python3"
  },
  "language_info": {
   "codemirror_mode": {
    "name": "ipython",
    "version": 3
   },
   "file_extension": ".py",
   "mimetype": "text/x-python",
   "name": "python",
   "nbconvert_exporter": "python",
   "pygments_lexer": "ipython3",
   "version": "3.8.3"
  }
 },
 "nbformat": 4,
 "nbformat_minor": 4
}
